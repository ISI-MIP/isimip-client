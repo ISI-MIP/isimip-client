{
 "cells": [
  {
   "cell_type": "code",
   "execution_count": null,
   "metadata": {},
   "outputs": [],
   "source": [
    "# install isimip-client from GitHub\n",
    "!pip install git+https://github.com/ISI-MIP/isimip-client\n",
    "# install dependecies for plotting\n",
    "!pip install netCDF4 matplotlib pandas"
   ]
  },
  {
   "cell_type": "code",
   "execution_count": null,
   "metadata": {},
   "outputs": [],
   "source": [
    "from isimip_client.client import ISIMIPClient\n",
    "client = ISIMIPClient()"
   ]
  },
  {
   "cell_type": "code",
   "execution_count": null,
   "metadata": {},
   "outputs": [],
   "source": [
    "# search the ISIMIP Repository for the datasets\n",
    "response = client.datasets(simulation_round='ISIMIP3b',\n",
    "                           product='InputData',\n",
    "                           climate_forcing='gfdl-esm4',\n",
    "                           climate_scenario='ssp126',\n",
    "                           climate_variable='sfcwind')\n",
    "\n",
    "file_paths = []\n",
    "for dataset in response[\"results\"]:\n",
    "    for file in  dataset['files']:\n",
    "        file_paths.append(file['path'])"
   ]
  },
  {
   "cell_type": "code",
   "execution_count": null,
   "metadata": {},
   "outputs": [],
   "source": [
    "points = [\n",
    "    (52.518611, 13.408333, 'downloads/berlin'),\n",
    "    (40.712778, -74.005833, 'downloads/new-york-city'),\n",
    "    (39.906667, 116.3975, 'downloads/beijing'),\n",
    "    (-23.5, -46.616667, 'downloads/sao-paulo'),\n",
    "    (-4.331667, 15.313889, 'downloads/kinshasa')\n",
    "]"
   ]
  },
  {
   "cell_type": "code",
   "execution_count": null,
   "metadata": {},
   "outputs": [],
   "source": [
    "for lat, lon, download_path in points:\n",
    "    response = client.select(file_paths, point=(lat, lon), poll=10)\n",
    "    client.download(response['file_url'], path=download_path, validate=False, extract=True)"
   ]
  },
  {
   "cell_type": "code",
   "execution_count": null,
   "metadata": {},
   "outputs": [],
   "source": [
    "# plot the time series\n",
    "import pandas as pd\n",
    "import matplotlib.pyplot as plt\n",
    "from pathlib import Path\n",
    "\n",
    "fig, axes = plt.subplots(nrows=len(points))\n",
    "for index, point in enumerate(points):\n",
    "    lat, lon, download_path = point\n",
    "    frames = []\n",
    "    for file in sorted(Path(download_path).iterdir()):\n",
    "        if file.suffix == '.csv':\n",
    "            frames.append(pd.read_csv(file, names=['date', 'sfcwind'], index_col='date', parse_dates=True))\n",
    "    \n",
    "    df = pd.concat(frames)\n",
    "    df.plot(ax=axes[index], title=download_path, xlim=('2020-01-01', '2030-01-01'))\n",
    "\n",
    "plt.gcf().set_size_inches(20, 40)"
   ]
  }
 ],
 "metadata": {
  "kernelspec": {
   "display_name": "Python 3 (ipykernel)",
   "language": "python",
   "name": "python3"
  },
  "language_info": {
   "codemirror_mode": {
    "name": "ipython",
    "version": 3
   },
   "file_extension": ".py",
   "mimetype": "text/x-python",
   "name": "python",
   "nbconvert_exporter": "python",
   "pygments_lexer": "ipython3",
   "version": "3.9.2"
  }
 },
 "nbformat": 4,
 "nbformat_minor": 4
}
