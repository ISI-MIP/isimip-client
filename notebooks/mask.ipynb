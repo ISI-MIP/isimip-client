{
 "cells": [
  {
   "cell_type": "code",
   "execution_count": null,
   "metadata": {},
   "outputs": [],
   "source": [
    "from isimip_client.client import ISIMIPClient\n",
    "client = ISIMIPClient()"
   ]
  },
  {
   "cell_type": "code",
   "execution_count": null,
   "metadata": {},
   "outputs": [],
   "source": [
    "# mask a file for a country\n",
    "# run this subsequently to poll the status\n",
    "path = 'ISIMIP3b/InputData/climate/atmosphere/bias-adjusted/global/daily/ssp370/GFDL-ESM4/gfdl-esm4_r1i1p1f1_w5e5_ssp370_tas_global_daily_2015_2020.nc'\n",
    "response = client.mask(path, country='nzl')\n",
    "response"
   ]
  },
  {
   "cell_type": "code",
   "execution_count": null,
   "metadata": {},
   "outputs": [],
   "source": [
    "# the same works for more then one file, e.g. a dataset, it just takes longer\n",
    "paths = [\n",
    "    'ISIMIP3b/InputData/climate/atmosphere/bias-adjusted/global/daily/ssp370/GFDL-ESM4/gfdl-esm4_r1i1p1f1_w5e5_ssp370_tas_global_daily_2015_2020.nc',\n",
    "    'ISIMIP3b/InputData/climate/atmosphere/bias-adjusted/global/daily/ssp370/GFDL-ESM4/gfdl-esm4_r1i1p1f1_w5e5_ssp370_tas_global_daily_2021_2030.nc',\n",
    "    'ISIMIP3b/InputData/climate/atmosphere/bias-adjusted/global/daily/ssp370/GFDL-ESM4/gfdl-esm4_r1i1p1f1_w5e5_ssp370_tas_global_daily_2031_2040.nc',\n",
    "    'ISIMIP3b/InputData/climate/atmosphere/bias-adjusted/global/daily/ssp370/GFDL-ESM4/gfdl-esm4_r1i1p1f1_w5e5_ssp370_tas_global_daily_2041_2050.nc',\n",
    "    'ISIMIP3b/InputData/climate/atmosphere/bias-adjusted/global/daily/ssp370/GFDL-ESM4/gfdl-esm4_r1i1p1f1_w5e5_ssp370_tas_global_daily_2051_2060.nc',\n",
    "    'ISIMIP3b/InputData/climate/atmosphere/bias-adjusted/global/daily/ssp370/GFDL-ESM4/gfdl-esm4_r1i1p1f1_w5e5_ssp370_tas_global_daily_2061_2070.nc',\n",
    "    'ISIMIP3b/InputData/climate/atmosphere/bias-adjusted/global/daily/ssp370/GFDL-ESM4/gfdl-esm4_r1i1p1f1_w5e5_ssp370_tas_global_daily_2071_2080.nc',\n",
    "    'ISIMIP3b/InputData/climate/atmosphere/bias-adjusted/global/daily/ssp370/GFDL-ESM4/gfdl-esm4_r1i1p1f1_w5e5_ssp370_tas_global_daily_2081_2090.nc',\n",
    "    'ISIMIP3b/InputData/climate/atmosphere/bias-adjusted/global/daily/ssp370/GFDL-ESM4/gfdl-esm4_r1i1p1f1_w5e5_ssp370_tas_global_daily_2091_2100.nc'\n",
    "]\n",
    "response = client.mask(paths, country='deu')\n",
    "response"
   ]
  },
  {
   "cell_type": "code",
   "execution_count": null,
   "metadata": {},
   "outputs": [],
   "source": [
    "# to mask everything but a bounding box in lat/lon use\n",
    "path = 'ISIMIP3b/InputData/climate/atmosphere/bias-adjusted/global/daily/ssp370/GFDL-ESM4/gfdl-esm4_r1i1p1f1_w5e5_ssp370_tas_global_daily_2015_2020.nc'\n",
    "response = client.mask(path, bbox=[-23.43651, 23.43651, -180, 180])  # [south, north, west, east]\n",
    "response"
   ]
  },
  {
   "cell_type": "code",
   "execution_count": null,
   "metadata": {},
   "outputs": [],
   "source": [
    "# to mask out all sea and antarctica data use:\n",
    "path = 'ISIMIP3b/InputData/climate/atmosphere/bias-adjusted/global/daily/ssp370/GFDL-ESM4/gfdl-esm4_r1i1p1f1_w5e5_ssp370_tas_global_daily_2015_2020.nc'\n",
    "response = client.mask(path, landonly=True)\n",
    "response"
   ]
  },
  {
   "cell_type": "code",
   "execution_count": null,
   "metadata": {},
   "outputs": [],
   "source": [
    "# once the status is 'finished', get the url to download the result\n",
    "client.download(response['file_url'], path='downloads', validate=False)"
   ]
  },
  {
   "cell_type": "code",
   "execution_count": null,
   "metadata": {},
   "outputs": [],
   "source": [
    "# extract the zipfile\n",
    "import zipfile\n",
    "from pathlib import Path\n",
    "\n",
    "file = response['file_url'].split('/')[-1]\n",
    "path = Path.cwd() / 'downloads'\n",
    "\n",
    "with zipfile.ZipFile(path / file, 'r') as zip_ref:\n",
    "    zip_ref.extractall(path)"
   ]
  },
  {
   "cell_type": "code",
   "execution_count": null,
   "metadata": {},
   "outputs": [],
   "source": [
    "# plot the first timestep of the file\n",
    "import numpy as np\n",
    "import matplotlib.pyplot as plt\n",
    "from netCDF4 import Dataset\n",
    "from pathlib import Path\n",
    "\n",
    "path = Path.cwd() / 'downloads' / 'gfdl-esm4_r1i1p1f1_w5e5_ssp370_tas_deu_daily_2015_2020.nc'\n",
    "with Dataset(path) as ds:\n",
    "    x = ds.variables['lon'][:]\n",
    "    y = ds.variables['lat'][:]\n",
    "    z = ds['tas'][0, :, :]\n",
    "    \n",
    "    plt.imshow(z, extent=[x[0], x[-1], y[0], y[-1]], cmap='coolwarm', aspect='auto')\n",
    "    plt.colorbar()\n",
    "    plt.gcf().set_size_inches(12, 12)"
   ]
  },
  {
   "cell_type": "code",
   "execution_count": null,
   "metadata": {},
   "outputs": [],
   "source": [
    "# To mask a specific dataset, the following code can be used to first search the\n",
    "# repository and then mask every file in the dataset. After starting the masking job \n",
    "# (on the server) it checks every 10 seconds, if the job is done and then downloads\n",
    "# the file. Masking the files on the server can take a few minutes or even longer.\n",
    "import time\n",
    "\n",
    "# get the dataset metadata from the ISIMIP repository\n",
    "response = client.datasets(simulation_round='ISIMIP3b',\n",
    "                           product='InputData',\n",
    "                           climate_forcing='gfdl-esm4',\n",
    "                           climate_scenario='ssp126',\n",
    "                           climate_variable='tas',\n",
    "                           time_step = 'daily')\n",
    "\n",
    "if not response['count'] == 1:\n",
    "    raise RuntimeError('More than one dataset retrieved')\n",
    "\n",
    "dataset = response[\"results\"][0]\n",
    "paths = [file['path'] for file in dataset['files']]\n",
    "\n",
    "for i in range(60):\n",
    "    # start/check a masking job on the server (e.g. for China)\n",
    "    response = client.mask(paths, country='chn')\n",
    "\n",
    "    # check the status and download the file if it is ready\n",
    "    print(response['status'], response['meta'])\n",
    "    if response['status'] == 'finished':\n",
    "        client.download(response['file_url'], path='downloads', validate=False)\n",
    "        break\n",
    "    else:\n",
    "        time.sleep(10)"
   ]
  }
 ],
 "metadata": {
  "kernelspec": {
   "display_name": "Python 3 (ipykernel)",
   "language": "python",
   "name": "python3"
  },
  "language_info": {
   "codemirror_mode": {
    "name": "ipython",
    "version": 3
   },
   "file_extension": ".py",
   "mimetype": "text/x-python",
   "name": "python",
   "nbconvert_exporter": "python",
   "pygments_lexer": "ipython3",
   "version": "3.7.3"
  }
 },
 "nbformat": 4,
 "nbformat_minor": 4
}
