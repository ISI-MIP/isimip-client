{
 "cells": [
  {
   "cell_type": "code",
   "execution_count": null,
   "id": "18a0cfb4-3171-4f0f-a341-c88a62507573",
   "metadata": {},
   "outputs": [],
   "source": [
    "import numpy as np\n",
    "import matplotlib.pyplot as plt\n",
    "from netCDF4 import Dataset\n",
    "from pathlib import Path"
   ]
  },
  {
   "cell_type": "code",
   "execution_count": null,
   "id": "061f1cf2-4fa0-4051-be16-3d53c59b3850",
   "metadata": {},
   "outputs": [],
   "source": [
    "def plot(path, t):\n",
    "    x = ds.variables['lon'][:]\n",
    "    y = ds.variables['lat'][:]\n",
    "    z = list(ds.variables.values())[-1][t, :, :]\n",
    "\n",
    "    plt.imshow(z, extent=[x[0], x[-1], y[-1], y[0]])"
   ]
  },
  {
   "cell_type": "code",
   "execution_count": null,
   "id": "6ff61c52-ce0a-4ba6-841e-371ef6565291",
   "metadata": {},
   "outputs": [],
   "source": [
    "# plot the country cut out\n",
    "path = Path.cwd() / 'downloads' / 'gfdl-esm4_r1i1p1f1_w5e5_ssp370_pr_deu_daily_2015_2020.nc'\n",
    "ds = Dataset(path)\n",
    "plot(ds, 0)"
   ]
  },
  {
   "cell_type": "code",
   "execution_count": null,
   "id": "1e331a05-3cdc-47a3-b9dd-c923d198c1ec",
   "metadata": {},
   "outputs": [],
   "source": [
    "# plot the bounding box cut out\n",
    "path = Path.cwd() / 'downloads' / 'gfdl-esm4_r1i1p1f1_w5e5_ssp370_pr_lat0to10lon0to10_daily_2015_2020.nc'\n",
    "ds = Dataset(path)\n",
    "plot(ds, 0)"
   ]
  },
  {
   "cell_type": "code",
   "execution_count": null,
   "id": "8f2e4db4-6af5-4d8a-8648-a327a1c89f8b",
   "metadata": {},
   "outputs": [],
   "source": [
    "# plot the landonly cut out\n",
    "path = Path.cwd() / 'downloads' / 'gfdl-esm4_r1i1p1f1_w5e5_ssp370_pr_landonly_daily_2015_2020.nc'\n",
    "ds = Dataset(path)\n",
    "plot(ds, 0)"
   ]
  }
 ],
 "metadata": {
  "kernelspec": {
   "display_name": "Python 3 (ipykernel)",
   "language": "python",
   "name": "python3"
  },
  "language_info": {
   "codemirror_mode": {
    "name": "ipython",
    "version": 3
   },
   "file_extension": ".py",
   "mimetype": "text/x-python",
   "name": "python",
   "nbconvert_exporter": "python",
   "pygments_lexer": "ipython3",
   "version": "3.9.7"
  }
 },
 "nbformat": 4,
 "nbformat_minor": 5
}
