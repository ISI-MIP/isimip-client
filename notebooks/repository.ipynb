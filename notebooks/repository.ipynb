{
 "cells": [
  {
   "cell_type": "code",
   "execution_count": null,
   "id": "b3994a23-9fa1-4a78-a2d2-d7a0f82e998c",
   "metadata": {},
   "outputs": [],
   "source": [
    "# optional, enable logging\n",
    "import logging\n",
    "logging.basicConfig(level='INFO', format='%(message)s')"
   ]
  },
  {
   "cell_type": "code",
   "execution_count": null,
   "id": "26221b7c-c942-4810-82a4-0150c35b8f84",
   "metadata": {},
   "outputs": [],
   "source": [
    "from isimip_client.client import ISIMIPClient\n",
    "client = ISIMIPClient()"
   ]
  },
  {
   "cell_type": "code",
   "execution_count": null,
   "id": "1611880a-2bb2-4228-bb18-91a378d4cdfc",
   "metadata": {},
   "outputs": [],
   "source": [
    "# search the ISIMIP repository for datasets using a search string\n",
    "response = client.datasets(query='gfdl-esm4 ssp370 pr')"
   ]
  },
  {
   "cell_type": "code",
   "execution_count": null,
   "id": "20092ad8-3b9a-421b-bfd2-a7983ddb5b21",
   "metadata": {},
   "outputs": [],
   "source": [
    "# search the ISIMIP repository for datasets using specifiers\n",
    "response = client.datasets(simulation_round='ISIMIP3b',\n",
    "                           product='InputData',\n",
    "                           climate_forcing='gfdl-esm4',\n",
    "                           climate_scenario='ssp370',\n",
    "                           climate_variable='pr')"
   ]
  },
  {
   "cell_type": "code",
   "execution_count": null,
   "id": "ab13b617-5458-414a-9d97-5c3ddf92239e",
   "metadata": {},
   "outputs": [],
   "source": [
    "# search the ISIMIP repository for datasets for all datasets below a specific path\n",
    "response = client.datasets(path='ISIMIP3b/InputData/climate/atmosphere/bias-adjusted/global/daily/ssp370/GFDL-ESM4/')"
   ]
  },
  {
   "cell_type": "code",
   "execution_count": null,
   "id": "bbd800bd-7c6b-4856-8abe-e2dd04f95248",
   "metadata": {},
   "outputs": [],
   "source": [
    "# the response contains a \"results\" field, which contains the queried datasets\n",
    "for result in response['results']:\n",
    "    print(result['id'], result['name'])"
   ]
  },
  {
   "cell_type": "code",
   "execution_count": null,
   "id": "f2ec48ce-5e02-4ee7-8884-82d79f7d1516",
   "metadata": {},
   "outputs": [],
   "source": [
    "# retrieve a metadata for a specific dataset using it's id\n",
    "dataset = client.dataset('a5ae479f-e7e5-4d36-b166-9a54aab330ce')"
   ]
  },
  {
   "cell_type": "code",
   "execution_count": null,
   "id": "9c413c19-f35f-4306-b85a-35d7b265d690",
   "metadata": {},
   "outputs": [],
   "source": [
    "# download all files from this dataset\n",
    "for file in dataset['files'][:1]:\n",
    "    client.download(file['file_url'], path='downloads', validate=True)"
   ]
  },
  {
   "cell_type": "code",
   "execution_count": null,
   "id": "6dc7c019",
   "metadata": {},
   "outputs": [],
   "source": [
    "# similar searches can be performed directly for files in the ISIMIP repository\n",
    "response = client.files(simulation_round='ISIMIP3b',\n",
    "                           product='InputData',\n",
    "                           climate_forcing='gfdl-esm4',\n",
    "                           climate_scenario='ssp370',\n",
    "                           climate_variable='pr')\n"
   ]
  },
  {
   "cell_type": "code",
   "execution_count": null,
   "id": "9194c0e9-7703-4171-af3f-8b05622546f1",
   "metadata": {},
   "outputs": [],
   "source": [
    "# download all files from the previous search\n",
    "for file in response['results']:\n",
    "    client.download(file['file_url'], path='downloads', validate=True)"
   ]
  }
 ],
 "metadata": {
  "kernelspec": {
   "display_name": "Python 3 (ipykernel)",
   "language": "python",
   "name": "python3"
  },
  "language_info": {
   "codemirror_mode": {
    "name": "ipython",
    "version": 3
   },
   "file_extension": ".py",
   "mimetype": "text/x-python",
   "name": "python",
   "nbconvert_exporter": "python",
   "pygments_lexer": "ipython3",
   "version": "3.12.7"
  }
 },
 "nbformat": 4,
 "nbformat_minor": 5
}
