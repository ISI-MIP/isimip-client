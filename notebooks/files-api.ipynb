{
 "cells": [
  {
   "cell_type": "code",
   "execution_count": null,
   "id": "4586532c-1650-4713-92ce-58a6725c74da",
   "metadata": {},
   "outputs": [],
   "source": [
    "from pathlib import Path"
   ]
  },
  {
   "cell_type": "code",
   "execution_count": null,
   "id": "100585a8-76ba-4db4-bab8-21a1c70f416d",
   "metadata": {},
   "outputs": [],
   "source": [
    "# optional, enable logging\n",
    "import logging\n",
    "logging.basicConfig(level='INFO')"
   ]
  },
  {
   "cell_type": "code",
   "execution_count": null,
   "id": "b5366d4e-c0a5-491c-b3e9-6e091584764e",
   "metadata": {},
   "outputs": [],
   "source": [
    "from isimip_client.client import ISIMIPClient\n",
    "client = ISIMIPClient()"
   ]
  },
  {
   "cell_type": "code",
   "execution_count": null,
   "id": "aaf573c8-eef5-4536-874b-acf2c7877238",
   "metadata": {},
   "outputs": [],
   "source": [
    "# first, we create a list of paths with all files we want to process\n",
    "paths = [\n",
    "    'ISIMIP3b/OutputData/biomes/CLASSIC/gfdl-esm4/future/classic_gfdl-esm4_w5e5_ssp585_2015soc-from-histsoc_default_burntarea-total_global_monthly_2015_2100.nc'\n",
    "]"
   ]
  },
  {
   "cell_type": "code",
   "execution_count": null,
   "id": "bfade023-d6d7-47ce-ad51-5afd96d9c8f9",
   "metadata": {},
   "outputs": [],
   "source": [
    "# then, we start a job to select a bounding box and poll every 4 seconds\n",
    "response = client.select_bbox(paths, -20, 40, 0, 20, poll=4)"
   ]
  },
  {
   "cell_type": "code",
   "execution_count": null,
   "id": "44ecf1f7-12df-4b1e-8d60-146bf8475fec",
   "metadata": {},
   "outputs": [],
   "source": [
    "# when the job is done, the result can be downloaded and extracted\n",
    "if 'file_url' in response:\n",
    "    client.download(response['file_url'], path='downloads', extract=True)"
   ]
  },
  {
   "cell_type": "code",
   "execution_count": null,
   "id": "42d79dc3-705d-439a-aa18-6ae2886496e7",
   "metadata": {},
   "outputs": [],
   "source": [
    "# the result can be plotted using xarray and matplotlib\n",
    "import matplotlib.pyplot as plt\n",
    "import xarray as xr\n",
    "\n",
    "path = 'downloads/classic_gfdl-esm4_w5e5_ssp585_2015soc-from-histsoc_default_burntarea-total_lon-20.0to40.0lat0.0to20.0_monthly_2015_2100.nc'\n",
    "ds = xr.open_dataset(path)\n",
    "ds['burntarea-total'].isel(time=0).plot()"
   ]
  },
  {
   "cell_type": "code",
   "execution_count": null,
   "id": "1414af83-19e1-41ee-82bb-4108a83b2706",
   "metadata": {},
   "outputs": [],
   "source": [
    "# the following methods can be used in a similar way\n",
    "client.select_point(paths, lat, lon, poll=poll)\n",
    "client.mask_bbox(paths, west, east, south, north, poll=poll)\n",
    "client.mask_country(paths, country, poll=poll)\n",
    "client.mask_landonly(paths, poll=poll)\n",
    "client.mask_mask(paths, mask, var, poll=poll)\n",
    "client.mask_shape(paths, shapefile, layer, poll=poll)\n",
    "client.mask_shape(paths, geojson, layer, poll=poll)\n",
    "client.cutout_bbox(paths, west, east, south, north, poll=poll)\n",
    "client.cutout_point(paths, lat, lon, poll=poll)"
   ]
  },
  {
   "cell_type": "code",
   "execution_count": null,
   "id": "49077b00-8944-45f1-85fc-707e59ebc6f5",
   "metadata": {},
   "outputs": [],
   "source": [
    "# in addition, the client allows to use the API with a custom list of operations\n",
    "# this can be used to create a cut-out of a country from high resolution data, e.g.\n",
    "paths = [\n",
    "    'ISIMIP3a/InputData/climate/atmosphere/obsclim/global/daily/historical/CHELSA-W5E5/chelsa-w5e5_obsclim_tas_30arcsec_global_daily_201612.nc',\n",
    "]"
   ]
  },
  {
   "cell_type": "code",
   "execution_count": null,
   "id": "03473317-f109-4b14-8653-f0754ab6c5d1",
   "metadata": {},
   "outputs": [],
   "source": [
    "# we use the Admin 0 – Countries data from naturalearthdata.com, which we need to download\n",
    "# first from https://www.naturalearthdata.com/downloads/10m-cultural-vectors/\n",
    "ne_path = Path('downloads') / 'ne_10m_admin_0_countries.zip'\n",
    "ne_mask = ne_path.with_suffix('.nc')"
   ]
  },
  {
   "cell_type": "code",
   "execution_count": null,
   "id": "53042735-51b4-46e8-9dde-9f1ae9bee634",
   "metadata": {},
   "outputs": [],
   "source": [
    "# we now need to prepare a chain of three operations\n",
    "operations = [\n",
    "    {\n",
    "        'operation': 'cutout_bbox',\n",
    "        'bbox': [\n",
    "             5.800,  # west\n",
    "            10.600,  # east\n",
    "            45.800,  # south\n",
    "            47.900   # north\n",
    "        ]\n",
    "    },\n",
    "    {\n",
    "        'operation': 'create_mask',\n",
    "        'shape': ne_path.name,\n",
    "        'mask': ne_mask.name,\n",
    "    },\n",
    "    {\n",
    "        'operation': 'mask_mask',\n",
    "        'mask': ne_mask.name,\n",
    "        'var': 'm_91'  # switzerland layer 91 in the shapefile\n",
    "    }\n",
    "]"
   ]
  },
  {
   "cell_type": "code",
   "execution_count": null,
   "id": "5a2f7c44-7c8c-414d-93b0-71bc49edb9eb",
   "metadata": {},
   "outputs": [],
   "source": [
    "# we also need a list of files to upload, which are referenced in the operations list\n",
    "uploads = [ne_path]"
   ]
  },
  {
   "cell_type": "code",
   "execution_count": null,
   "id": "eaf09ddc-d979-47d0-aad6-30da3887732a",
   "metadata": {},
   "outputs": [],
   "source": [
    "# finally, we can submit the prepared job to the API and poll every 4 seconds for it's status\n",
    "response = client.submit_job(paths, operations, uploads, poll=4)"
   ]
  },
  {
   "cell_type": "code",
   "execution_count": null,
   "id": "97556eae-0292-47ee-a8fa-f29574f56821",
   "metadata": {},
   "outputs": [],
   "source": [
    "# when the job is done, the result can be downloaded and extracted\n",
    "if 'file_url' in response:\n",
    "    client.download(response['file_url'], path='downloads', extract=True)"
   ]
  },
  {
   "cell_type": "code",
   "execution_count": null,
   "id": "95883d10-d8ae-4d83-b204-7c2821845a24",
   "metadata": {},
   "outputs": [],
   "source": [
    "# again, the result can be plotted using xarray and matplotlib\n",
    "import matplotlib.pyplot as plt\n",
    "import xarray as xr\n",
    "\n",
    "path = 'downloads/chelsa-w5e5_obsclim_tas_30arcsec_lon5.8to10.6lat45.8to47.9+ne_10m_admin_0_countries_daily_201612.nc'\n",
    "ds = xr.open_dataset(path)\n",
    "ds['tas'].isel(time=10).plot()"
   ]
  }
 ],
 "metadata": {
  "kernelspec": {
   "display_name": "Python 3 (ipykernel)",
   "language": "python",
   "name": "python3"
  },
  "language_info": {
   "codemirror_mode": {
    "name": "ipython",
    "version": 3
   },
   "file_extension": ".py",
   "mimetype": "text/x-python",
   "name": "python",
   "nbconvert_exporter": "python",
   "pygments_lexer": "ipython3",
   "version": "3.12.7"
  }
 },
 "nbformat": 4,
 "nbformat_minor": 5
}
