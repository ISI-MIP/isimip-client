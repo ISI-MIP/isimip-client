{
 "cells": [
  {
   "cell_type": "code",
   "execution_count": null,
   "metadata": {},
   "outputs": [],
   "source": [
    "from isimip_client.client import ISIMIPClient\n",
    "client = ISIMIPClient()"
   ]
  },
  {
   "cell_type": "code",
   "execution_count": null,
   "metadata": {},
   "outputs": [],
   "source": [
    "# search the ISIMIP repository using a search string\n",
    "response = client.list('/datasets', query='ISIMIP2b rcp60soc dis')"
   ]
  },
  {
   "cell_type": "code",
   "execution_count": null,
   "metadata": {},
   "outputs": [],
   "source": [
    "# search the ISIMIP repository for a specific subtree\n",
    "response = client.list('/datasets', tree='ISIMIP2b/OutputData/water_global/h08/gfdl-esm2m/future/ewembi/rcp60/rcp60soc')"
   ]
  },
  {
   "cell_type": "code",
   "execution_count": null,
   "metadata": {},
   "outputs": [],
   "source": [
    "# search the ISIMIP repository using specifiers\n",
    "response = client.list('/datasets', simulation_round='ISIMIP2b',\n",
    "                                    sector='water_global',\n",
    "                                    climate_forcing='gfdl-esm2m',\n",
    "                                    climate_scenario='rcp60',\n",
    "                                    soc_scenario='rcp60soc',\n",
    "                                    model='h08',\n",
    "                                    variable='dis')"
   ]
  },
  {
   "cell_type": "code",
   "execution_count": null,
   "metadata": {},
   "outputs": [],
   "source": [
    "# list returned datasets\n",
    "for dataset in response['results']:\n",
    "    print(dataset['name'])"
   ]
  },
  {
   "cell_type": "code",
   "execution_count": null,
   "metadata": {},
   "outputs": [],
   "source": [
    "# loop over datasets and download files\n",
    "for dataset in response['results']:\n",
    "    for file in dataset['files']:\n",
    "        client.download(file['file_url'])"
   ]
  }
 ],
 "metadata": {
  "kernelspec": {
   "display_name": "Python 3",
   "language": "python",
   "name": "python3"
  },
  "language_info": {
   "codemirror_mode": {
    "name": "ipython",
    "version": 3
   },
   "file_extension": ".py",
   "mimetype": "text/x-python",
   "name": "python",
   "nbconvert_exporter": "python",
   "pygments_lexer": "ipython3",
   "version": "3.7.3"
  }
 },
 "nbformat": 4,
 "nbformat_minor": 4
}
