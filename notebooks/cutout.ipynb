{
 "cells": [
  {
   "cell_type": "code",
   "execution_count": null,
   "metadata": {},
   "outputs": [],
   "source": [
    "from isimip_client.client import ISIMIPClient\n",
    "client = ISIMIPClient()"
   ]
  },
  {
   "cell_type": "code",
   "execution_count": null,
   "metadata": {},
   "outputs": [],
   "source": [
    "# to cut out a bounding box in lat/lon use\n",
    "# run this subsequently to poll the status\n",
    "path = 'ISIMIP3a/SecondaryInputData/climate/atmosphere/obsclim/global/daily/historical/CHELSA-W5E5v1.0/chelsa-w5e5v1.0_obsclim_tas_30arcsec_global_daily_201601.nc'\n",
    "response = client.cutout(path, bbox=[-45.108, -41.935, 167.596, 173.644])\n",
    "response"
   ]
  },
  {
   "cell_type": "code",
   "execution_count": null,
   "metadata": {},
   "outputs": [],
   "source": [
    "# once the status is 'finished', get the url to download the result\n",
    "client.download(response['file_url'], path='downloads', validate=False, extract=True)"
   ]
  },
  {
   "cell_type": "code",
   "execution_count": null,
   "metadata": {},
   "outputs": [],
   "source": [
    "# plot the first timestep of the file\n",
    "import numpy as np\n",
    "import matplotlib.pyplot as plt\n",
    "from netCDF4 import Dataset\n",
    "from pathlib import Path\n",
    "\n",
    "path = Path.cwd() / 'downloads' / 'chelsa-w5e5v1.0_obsclim_tas_30arcsec_lat-45.108to-41.935lon167.596to173.644_daily_201601.nc'\n",
    "with Dataset(path) as ds:\n",
    "    x = ds.variables['lon'][:]\n",
    "    y = ds.variables['lat'][:]\n",
    "    z = np.flip(ds['tas'][0, :, :], 0)\n",
    "    \n",
    "    img = np.flip(ds['tas'][0, :, :], 0)\n",
    "    plt.imshow(z, extent=[x[0], x[-1], y[0], y[-1]], cmap='coolwarm', aspect='auto')\n",
    "    plt.colorbar()\n",
    "    plt.gcf().set_size_inches(12, 12)"
   ]
  },
  {
   "cell_type": "code",
   "execution_count": null,
   "metadata": {},
   "outputs": [],
   "source": [
    "# To mask a specific dataset, the following code can be used to first search the\n",
    "# repository and then mask every file in the dataset. After starting the masking job \n",
    "# (on the server) it checks every 10 seconds, if the job is done and then downloads\n",
    "# the file. Masking the files on the server can take a few minutes or even longer.\n",
    "\n",
    "# get the dataset metadata from the ISIMIP repository\n",
    "response = client.datasets(simulation_round='ISIMIP3a',\n",
    "                           product='SecondaryInputData',\n",
    "                           climate_forcing='chelsa-w5e5v1.0',\n",
    "                           climate_scenario='obsclim',\n",
    "                           climate_variable='tas')\n",
    "\n",
    "dataset = response[\"results\"][0]\n",
    "paths = [file['path'] for file in dataset['files']]\n",
    "\n",
    "# start/poll a masking job on the server (e.g. for China)\n",
    "response = client.cutout(paths, [-45.108, -41.935, 167.596, 173.644], poll=10)\n",
    "\n",
    "# download the file when it is ready\n",
    "client.download(response['file_url'], path='downloads', validate=False, extract=True)"
   ]
  }
 ],
 "metadata": {
  "kernelspec": {
   "display_name": "Python 3 (ipykernel)",
   "language": "python",
   "name": "python3"
  },
  "language_info": {
   "codemirror_mode": {
    "name": "ipython",
    "version": 3
   },
   "file_extension": ".py",
   "mimetype": "text/x-python",
   "name": "python",
   "nbconvert_exporter": "python",
   "pygments_lexer": "ipython3",
   "version": "3.7.3"
  }
 },
 "nbformat": 4,
 "nbformat_minor": 4
}
